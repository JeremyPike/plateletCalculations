{
 "cells": [
  {
   "cell_type": "markdown",
   "metadata": {},
   "source": [
    "## Retrieving sphere radius assuming spherical volume\n",
    "\n",
    "volume mouse platelet = 5.5fl\n",
    "volume human platelet = 8.5fl\n",
    "\n",
    "$V_{sphere} = \\frac{4}{3}\\pi r^3$\n",
    "\n",
    "$r = (\\frac{3V_{sphere}}{4\\pi})^{\\frac{1}{3}}$"
   ]
  },
  {
   "cell_type": "code",
   "execution_count": 1,
   "metadata": {},
   "outputs": [
    {
     "name": "stdout",
     "output_type": "stream",
     "text": [
      "1.0950266614327013\n",
      "1.2660283730782338\n"
     ]
    }
   ],
   "source": [
    "import math\n",
    "\n",
    "\n",
    "volMouse = 5.5\n",
    "volHuman = 8.5\n",
    "\n",
    "caRatio = 1 / 3\n",
     "\n",
    "rMouse = math.pow(3 * volMouse / 4 / math.pi, 1 / 3)\n",
    "rHuman = math.pow(3 * volHuman / 4 / math.pi, 1 / 3)\n",
    "\n",
    "print(rMouse)\n",
    "print(rHuman)"
   ]
  },
  {
   "cell_type": "markdown",
   "metadata": {},
   "source": [
    "## Retrieving radii assuming oblate spheriod\n",
    "$V_{spheroid} = \\frac{4}{3}\\pi a^2c$\n",
    "\n",
    "assume $c = \\frac{2a}{5}$\n",
    "\n",
    "$V_{spheroid} = \\frac{4}{3}\\frac{c}{a}\\pi a^3$\n",
    "\n",
    "$a = (\\frac{3aV_{spheroid}}{4c\\pi})^{\\frac{1}{3}}$"
   ]
  },
  {
   "cell_type": "code",
   "execution_count": 15,
   "metadata": {},
   "outputs": [
    {
     "name": "stdout",
     "output_type": "stream",
     "text": [
      "1.4861798302170155\n",
      "1.718264859496273\n"
     ]
    }
   ],
   "source": [
    "\n",
    "aMouse = math.pow(3 * volMouse / 4 / caRatio / math.pi, 1 / 3)\n",
    "aHuman = math.pow(3 * volHuman / 4 / caRatio / math.pi, 1 / 3)\n",
    "\n",
    "cMouse = caRatio * aMouse \n",
    "cHuman = caRatio * aHuman \n",
    "\n",
    "print(aMouse)\n",
    "print(aHuman)\n"
   ]
  },
  {
   "cell_type": "markdown",
   "metadata": {},
   "source": [
    "## Surface area calculations\n",
    "\n",
    "$A_{sphere} = 4\\pi r^2$\n",
    "\n",
    "$A_{spheroid} =2\\pi a^{2}+\\pi {\\frac {c^{2}}{e}}\\ln \\left({\\frac {1+e}{1-e}}\\right)\\quad {\\mbox{where}}\\quad e^{2}=1-{\\frac {c^{2}}{a^{2}}}$\n"
   ]
  },
  {
   "cell_type": "code",
   "execution_count": 16,
   "metadata": {},
   "outputs": [
    {
     "name": "stdout",
     "output_type": "stream",
     "text": [
      "Surface area sphere for mouse: 15.068126266817895\n",
      "Surface area sphere for human: 20.141728686537295\n",
      "Surface area spheroid for mouse: 17.673776255441425\n",
      "Surface area spheroid for human: 23.62472943882773\n"
     ]
    }
   ],
   "source": [
    "areaSphereMouse = 4 * math.pi * math.pow(rMouse, 2)\n",
    "areaSphereHuman = 4 * math.pi * math.pow(rHuman, 2)\n",
    "\n",
    "e = math.sqrt(1 - math.pow(caRatio, 2))\n",
    "\n",
    "areaSperoidMouse = 2 * math.pi * math.pow(aMouse, 2) + math.pi * math.pow(cMouse, 2) / e * math.log((1 + e) / (1 - e))\n",
    "areaSperoidHuman = 2 * math.pi * math.pow(aHuman, 2) + math.pi * math.pow(cHuman, 2) / e * math.log((1 + e) / (1 - e))\n",
    "\n",
    "print(\"Surface area sphere for mouse: \" + str(areaSphereMouse))\n",
    "print(\"Surface area sphere for human: \" + str(areaSphereHuman))\n",
    "print(\"Surface area spheroid for mouse: \" + str(areaSperoidMouse))\n",
    "print(\"Surface area spheroid for human: \" + str(areaSperoidHuman))"
   ]
  },
  {
   "cell_type": "code",
   "execution_count": null,
   "metadata": {},
   "outputs": [],
   "source": []
  },
  {
   "cell_type": "code",
   "execution_count": null,
   "metadata": {},
   "outputs": [],
   "source": []
  }
 ],
 "metadata": {
  "kernelspec": {
   "display_name": "Python 3",
   "language": "python",
   "name": "python3"
  },
  "language_info": {
   "codemirror_mode": {
    "name": "ipython",
    "version": 3
   },
   "file_extension": ".py",
   "mimetype": "text/x-python",
   "name": "python",
   "nbconvert_exporter": "python",
   "pygments_lexer": "ipython3",
   "version": "3.6.5"
  }
 },
 "nbformat": 4,
 "nbformat_minor": 2
}
